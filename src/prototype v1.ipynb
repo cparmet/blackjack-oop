{
 "cells": [
  {
   "cell_type": "markdown",
   "metadata": {},
   "source": [
    "Use _ to indicate these variables are private to the class.  \n",
    "To remind myself not to change them directly in code outside the class.  \n",
    "Instead, use the class's methods, which check for consequences (validation etc) of a variable change.  "
   ]
  },
  {
   "cell_type": "code",
   "execution_count": 18,
   "metadata": {},
   "outputs": [],
   "source": [
    "from random import randint\n",
    "\n",
    "# Dictionary to map Card face to Numerical value\n",
    "cards_dict = {'2':2,\n",
    "          '3':3,\n",
    "          '4':4,\n",
    "          '5':5,\n",
    "          '6':6,\n",
    "          '7':7,\n",
    "          '8':8,\n",
    "          '9':9,\n",
    "          '10':10,\n",
    "          'J':10,\n",
    "          'Q':10,\n",
    "          'K':10,\n",
    "          'A':11} # We'll handle soft Aces in code.\n",
    "\n",
    "class Player:\n",
    "    \n",
    "    # initialize the attributes\n",
    "    def __init__(self, name):\n",
    "        self.name = name \n",
    "#         self.hand = [] # This gets reset at the top of each game\n",
    "        self.status = 'open' # 'open', 'win', 'stand' (includes push), lose' (bust, dealer natural blackjack)\t\n",
    "    \n",
    "    def print_hand(self):\n",
    "        hand_formatted = ' '.join(self.hand)\n",
    "        print('{}: {}'.format(self.name, hand_formatted))\n",
    "                \n",
    "    \n",
    "    def calculate_soft_score(self):\n",
    "        ''' Try to convert some/all Aces to 1 to get a better score. \n",
    "        Return closest to 21 without going over.'''\n",
    "        \n",
    "        soft_score = self.hard_score\n",
    "        n_aces = len([card for card in self.hand if card == 'A'])\n",
    "        \n",
    "        if n_aces>0:\n",
    "            for ace in range(1, n_aces+1):\n",
    "                soft_score -= 10 #  -11 + 1\n",
    "                if soft_score <=21: # Stop as soon as we get closest without going over.\n",
    "                    break\n",
    "                    \n",
    "        return soft_score\n",
    "    \n",
    "    def evaluate_hand(self):\n",
    "        ''' Update soft and hard scores, and detect blackjacks and busts.'''\n",
    "\n",
    "        # Evaluate hard score (all Aces = 11)\n",
    "        self.hard_score = 0 \n",
    "        \n",
    "        for card in self.hand:\n",
    "            self.hard_score += cards_dict[card]\n",
    "        \n",
    "        # Hard blackjack?\n",
    "        if self.hard_score == 21: \n",
    "            self.best_score = 21 \n",
    "\n",
    "        # Else, if hard_score is not a bust, it's our best score (closet to 21 without going over).\n",
    "        elif self.hard_score<21:\n",
    "            self.best_score = self.hard_score\n",
    "        \n",
    "        # Else, hard_score is a bust, so calculate the soft score (try some/all Aces = 1)\n",
    "        else: \n",
    "            self.best_score = self.calculate_soft_score()                        \n",
    "            \n",
    "            if self.best_score == 21:\n",
    "                self.status = 'blackjack'            \n",
    "                \n",
    "            if self.best_score>21:  # Soft score didn't help\n",
    "                self.status = 'bust'\n",
    "\n",
    "\n",
    "class Human(Player):\n",
    "\n",
    "    def move(self, tbl): # inelegant to pass table here. and to have to name it tbl. Better is to put move in Table, with subroutnine here\n",
    "        decision = ''\n",
    "        while (decision != 'h') and (decision != 's'):\n",
    "            decision = input(\"Hit (h) or Stand (s)?\")\n",
    "        if decision == 'h':\n",
    "            self.hand += tbl.draw()\n",
    "            self.print_hand()\n",
    "            self.evaluate_hand()\n",
    "        if decision == 's':\n",
    "            self.status = 'stand'\n",
    "\n",
    "class Dealer(Player):\n",
    "    \n",
    "    def move(self, tbl):\n",
    "        self.status = 'bust' # PLACEHOLDER. ADD RULES\n",
    "    \n",
    "    def print_hand(self, is_deal=False): \n",
    "        '''Override the regular Player print function to handle the hidden Dealer card at deal.'''\n",
    "        \n",
    "        if is_deal: \n",
    "            hand_formatted = str(self.hand[0]) + ' ' + '?'\n",
    "        else:\n",
    "            hand_formatted = ' '.join(self.hand)\n",
    "        \n",
    "        print('{}: {}'.format(self.name, hand_formatted))\n",
    "\n",
    "class Table():\n",
    "            \n",
    "    def _new_deck(self):\n",
    "        self._deck = list(cards_dict)*4\n",
    "\n",
    "    def __init__(self):\n",
    "        \n",
    "        self.is_active = True\n",
    "        \n",
    "        # Create a new deck\n",
    "        self._new_deck()\n",
    "\n",
    "        # Add humans\n",
    "        player_names = []\n",
    "        while not player_names: # While is to handle empty input\n",
    "            player_names = input(\"What's your name?\").split(',') \n",
    "            \n",
    "        self.players = [Human(name) for name in player_names]\n",
    "\n",
    "        # Add dealer\n",
    "        self.players += [Dealer('Encore')]\n",
    "                \n",
    "    def draw(self):\n",
    "        ''' Takes 1 card out of the deck. Depletes deck by 1.'''\n",
    "        \n",
    "        l_deck =len(self._deck)\n",
    "        \n",
    "        # If we're out of cards, get a new deck.\n",
    "        if l_deck <0: \n",
    "            self._new_deck()\n",
    "\n",
    "        new_card = self._deck[randint(0, l_deck-1)] # Shuffles when drawing a card. Inelegant. Fix later.\n",
    "        self._deck.remove(new_card)\n",
    "        return([new_card])\n",
    "\n",
    "    def deal(self, player_to_deal_to):\n",
    "        ''' Draw two cards.'''\n",
    "        player_to_deal_to.hand += self.draw() + self.draw()\n",
    "\n",
    "    def end_game(self):\n",
    "        # Show dealer's full hand.\n",
    "        self.players[-1].print_hand()\n",
    "        dealer_status = self.players[-1].status\n",
    "        dealers_score = self.players[-1].best_score\n",
    "        \n",
    "        # Evaluate how each non-dealer player did. \n",
    "        for p in self.players[0:-1]: # \n",
    "            # If player busted/blackjacked already, and Dealer didn't have a natural blackjack, player's status will already be final. \n",
    "            \n",
    "            # Dealer has blackjack. (Includes natural blackjack)\n",
    "            if dealer_status == 'blackjack': \n",
    "                if p.status == 'blackjack': # So does player. \n",
    "                    p.status = 'push'\n",
    "                else: # Player loses (including on a natural blackjack)\n",
    "                    p.status = 'lost'\n",
    "                      \n",
    "            # Dealer busted, player didn't. I win!\n",
    "            elif (dealer_status == 'bust') and (p.status!='bust'):\n",
    "                p.status = 'won'\n",
    "            \n",
    "            # Both player and Dealer are <=21\n",
    "            elif p.best_score >= dealers_score: # CONTINUE\n",
    "                if p.best_score >= dealers_score:\n",
    "                    p.status = 'won'\n",
    "                else:\n",
    "                    p.status = 'pushed'\n",
    "                \n",
    "            print(\"{} has {}!\".format(p.name, p.status))\n",
    "        \n",
    "    def run_game(self):\n",
    "\n",
    "        for p in self.players:\n",
    "            p.status = 'open' \n",
    "            p.hand = []\n",
    "            \n",
    "            self.deal(p)\n",
    "            \n",
    "            if isinstance(p, Dealer): # This is inelegant. Just always pass is_deal?\n",
    "                p.print_hand(is_deal = True)\n",
    "            else:\n",
    "                p.print_hand()\n",
    "            p.evaluate_hand()\n",
    "\n",
    "        # Does dealer have a natural blackjack?\n",
    "        if self.players[-1].status == 'blackjack':\n",
    "            self.end_game()\n",
    "\n",
    "        # Otherwise, play out the hands of each player, one at a time.\n",
    "        else:\n",
    "            for p in self.players: \n",
    "                while p.status == 'open':\n",
    "                    p.move(self) # feels inelegant\n",
    "        \n",
    "        self.end_game()\n",
    "        "
   ]
  },
  {
   "cell_type": "code",
   "execution_count": 19,
   "metadata": {},
   "outputs": [
    {
     "name": "stdin",
     "output_type": "stream",
     "text": [
      "What's your name? Chad\n"
     ]
    },
    {
     "name": "stdout",
     "output_type": "stream",
     "text": [
      "Chad: 8 J\n",
      "Encore: A ?\n"
     ]
    },
    {
     "name": "stdin",
     "output_type": "stream",
     "text": [
      "Hit (h) or Stand (s)? s\n"
     ]
    },
    {
     "name": "stdout",
     "output_type": "stream",
     "text": [
      "Encore: A J\n",
      "Chad has won!\n"
     ]
    },
    {
     "name": "stdin",
     "output_type": "stream",
     "text": [
      "Play again? (y) y\n"
     ]
    },
    {
     "name": "stdout",
     "output_type": "stream",
     "text": [
      "Chad: A J\n",
      "Encore: 3 ?\n"
     ]
    },
    {
     "name": "stdin",
     "output_type": "stream",
     "text": [
      "Hit (h) or Stand (s)? s\n"
     ]
    },
    {
     "name": "stdout",
     "output_type": "stream",
     "text": [
      "Encore: 3 A\n",
      "Chad has won!\n"
     ]
    },
    {
     "name": "stdin",
     "output_type": "stream",
     "text": [
      "Play again? (y) n\n"
     ]
    }
   ],
   "source": [
    "table = Table()\n",
    "\n",
    "while table.is_active:\n",
    "    table.run_game()\n",
    "    table.is_active = input('Play again? (y)') == 'y'"
   ]
  },
  {
   "cell_type": "code",
   "execution_count": null,
   "metadata": {},
   "outputs": [],
   "source": [
    "%debug"
   ]
  },
  {
   "cell_type": "code",
   "execution_count": null,
   "metadata": {},
   "outputs": [],
   "source": []
  }
 ],
 "metadata": {
  "kernelspec": {
   "display_name": "Python 3",
   "language": "python",
   "name": "python3"
  },
  "language_info": {
   "codemirror_mode": {
    "name": "ipython",
    "version": 3
   },
   "file_extension": ".py",
   "mimetype": "text/x-python",
   "name": "python",
   "nbconvert_exporter": "python",
   "pygments_lexer": "ipython3",
   "version": "3.7.3"
  }
 },
 "nbformat": 4,
 "nbformat_minor": 4
}
