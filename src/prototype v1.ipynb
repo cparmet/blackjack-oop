{
 "cells": [
  {
   "cell_type": "markdown",
   "metadata": {},
   "source": [
    "Use _ to indicate these variables are private to the class.  \n",
    "To remind myself not to change them directly in code outside the class.  \n",
    "Instead, use the class's methods, which check for consequences (validation etc) of a variable change.  "
   ]
  },
  {
   "cell_type": "code",
   "execution_count": 34,
   "metadata": {},
   "outputs": [],
   "source": [
    "from random import randint\n",
    "\n",
    "# Dictionary to map Card face to Numerical value\n",
    "cards_dict = {'2':2,\n",
    "          '3':3,\n",
    "          '4':4,\n",
    "          '5':5,\n",
    "          '6':6,\n",
    "          '7':7,\n",
    "          '8':8,\n",
    "          '9':9,\n",
    "          '10':10,\n",
    "          'J':10,\n",
    "          'Q':10,\n",
    "          'K':10,\n",
    "          'A':11} # We'll handle soft Aces in code.\n",
    "\n",
    "class Player:\n",
    "    \n",
    "    # initialize the attributes\n",
    "    def __init__(self, name):\n",
    "        self.name = name \n",
    "        self.hand = []\n",
    "        self.status = 'open' # 'open', 'win', 'stand' (includes push), lose' (bust, dealer natural blackjack)\t\n",
    "    \n",
    "    def print_hand(self):\n",
    "        hand_formatted = ' '.join(self.hand)\n",
    "        print('{}: {}'.format(self.name, hand_formatted))\n",
    "        \n",
    "    def deal(self, deck):\n",
    "        ''' Draw two cards.'''\n",
    "        self.hand += deck.draw() + deck.draw()\n",
    "        \n",
    "    def evaluate_hand(self):\n",
    "        ''' Do we have blackjack or bust?'''\n",
    "\n",
    "        hard_score = 0 # Aces = 11\n",
    "        \n",
    "        for card in self.hand:\n",
    "            hard_score += cards_dict[card]\n",
    "        \n",
    "        soft_score = hard_score # Aces = 1\n",
    "        if hard_score>21:\n",
    "            n_aces = len([card for card in self.hand if card == 'A'])\n",
    "            if n_aces>0:\n",
    "                for ace in range(1, n_aces+1):\n",
    "                    soft_score -= 10 #  -11 + 1\n",
    "                    if soft_score == 21:\n",
    "                        self.status = 'win'\n",
    "        elif hard_score ==21:\n",
    "            self.status = 'win'\n",
    "\n",
    "        if soft_score>21: # Also catches when hard_score >21 and converting Aces to 1 doesn't save player.\n",
    "            self.status = 'lose'\n",
    "    \n",
    "#         print(min([soft_score,hard_score])) # For QC, print total value\n",
    "\n",
    "class Human(Player):\n",
    "\n",
    "    def move(self, dk):\n",
    "        decision = ''\n",
    "        while (decision != 'h') and (decision != 's'):\n",
    "            decision = input(\"Hit (h) or Stand (s)?\")\n",
    "        if decision == 'h':\n",
    "            self.hand += dk.draw()\n",
    "            self.print_hand()\n",
    "            self.evaluate_hand()\n",
    "        if decision == 's':\n",
    "            self.status = 'stand'\n",
    "\n",
    "class Dealer(Player):\n",
    "    \n",
    "    def move(self, dk):\n",
    "        self.status = 'lose' # PLACEHOLDER. CONTINUE HERE\n",
    "        #         ''' Rules to make next move''\n",
    "    \n",
    "    def print_hand(self, is_deal=False): \n",
    "        '''Override the regular Player print function to handle the hidden Dealer card at deal.'''\n",
    "        \n",
    "        if is_deal: \n",
    "            hand_formatted = str(self.hand[0]) + ' ' + '?'\n",
    "        else:\n",
    "            hand_formatted = ' '.join(self.hand)\n",
    "        \n",
    "        print('{}: {}'.format(self.name, hand_formatted))\n",
    "\n",
    "class Table():\n",
    "            \n",
    "    def _new_deck(self):\n",
    "        self._cards = list(cards_dict)*4\n",
    "\n",
    "    def __init__(self):\n",
    "        \n",
    "        self.is_active = True\n",
    "        \n",
    "        # Create a new deck\n",
    "        self._new_deck()\n",
    "\n",
    "        # Add humans\n",
    "        player_names = []\n",
    "        while not player_names: # While is to handle empty input\n",
    "            player_names = input(\"What's your name?\").split(',') \n",
    "            \n",
    "        self.players = [Human(name) for name in player_names]\n",
    "\n",
    "        # Add dealer\n",
    "        self.players += [Dealer('Encore')]\n",
    "                \n",
    "    def draw(self):\n",
    "        ''' Takes 1 card out of the deck. Depletes deck by 1.'''\n",
    "        \n",
    "        n_cards =len(self._cards)\n",
    "        \n",
    "        # If we're out of cards, get a new deck.\n",
    "        if n_cards <0: \n",
    "            self._new_deck()\n",
    "\n",
    "        new_card = self._cards[randint(0,n_cards-1)] # Shuffles when drawing a card. Inelegant. Fix later.\n",
    "        self._cards.remove(new_card)\n",
    "        return([new_card])\n",
    "\n",
    "    def play_game(self):\n",
    "\n",
    "        for p in self.players:\n",
    "            p.deal(deck)\n",
    "            if isinstance(p, Dealer): # This is inelegant. Just always pass is_deal?\n",
    "                p.print_hand(is_deal = True)\n",
    "            else:\n",
    "                p.print_hand()\n",
    "            p.evaluate_hand()\n",
    "\n",
    "        # Does dealer have a natural blackjack?\n",
    "        if self.players[-1].status == 'win':\n",
    "            for p in self.players[0:-1]: # For all non-dealer players \n",
    "                # Does player also have a natural blackjack?\n",
    "                if p.status == 'win':\n",
    "                    p.status = 'push'\n",
    "                else:\n",
    "                    p.status = 'lose'\n",
    "                print(p.name, p.status)\n",
    "\n",
    "        else:\n",
    "            # Play out the hands of each player, one at a time.\n",
    "            for p in self.players: \n",
    "                print('QC:', p.name)\n",
    "                while p.status == 'open':\n",
    "                    p.move(deck)\n",
    "                print(p.name, p.status)\n",
    "                p.status = 'open' # Reset status"
   ]
  },
  {
   "cell_type": "code",
   "execution_count": null,
   "metadata": {},
   "outputs": [
    {
     "name": "stdin",
     "output_type": "stream",
     "text": [
      "What's your name? c\n"
     ]
    },
    {
     "name": "stdout",
     "output_type": "stream",
     "text": [
      "c: 5 2\n",
      "Encore: 5 ?\n"
     ]
    },
    {
     "name": "stdin",
     "output_type": "stream",
     "text": [
      "Hit (h) or Stand (s)? s\n"
     ]
    },
    {
     "name": "stdout",
     "output_type": "stream",
     "text": [
      "c stand\n",
      "Encore lose\n"
     ]
    },
    {
     "name": "stdin",
     "output_type": "stream",
     "text": [
      "Play again? (y) y\n"
     ]
    },
    {
     "name": "stdout",
     "output_type": "stream",
     "text": [
      "c: 5 2 10 Q\n",
      "Encore: 5 ?\n",
      "c lose\n",
      "Encore lose\n"
     ]
    }
   ],
   "source": [
    "table = Table()\n",
    "\n",
    "while table.is_active:\n",
    "    table.play_game()\n",
    "    table.is_active = input('Play again? (y)') == 'y'"
   ]
  },
  {
   "cell_type": "code",
   "execution_count": 36,
   "metadata": {},
   "outputs": [
    {
     "name": "stdout",
     "output_type": "stream",
     "text": [
      "> \u001b[1;32m<ipython-input-34-0e72d2d172a6>\u001b[0m(65)\u001b[0;36mmove\u001b[1;34m()\u001b[0m\n",
      "\u001b[1;32m     63 \u001b[1;33m            \u001b[0mdecision\u001b[0m \u001b[1;33m=\u001b[0m \u001b[0minput\u001b[0m\u001b[1;33m(\u001b[0m\u001b[1;34m\"Hit (h) or Stand (s)?\"\u001b[0m\u001b[1;33m)\u001b[0m\u001b[1;33m\u001b[0m\u001b[1;33m\u001b[0m\u001b[0m\n",
      "\u001b[0m\u001b[1;32m     64 \u001b[1;33m        \u001b[1;32mif\u001b[0m \u001b[0mdecision\u001b[0m \u001b[1;33m==\u001b[0m \u001b[1;34m'h'\u001b[0m\u001b[1;33m:\u001b[0m\u001b[1;33m\u001b[0m\u001b[1;33m\u001b[0m\u001b[0m\n",
      "\u001b[0m\u001b[1;32m---> 65 \u001b[1;33m            \u001b[0mself\u001b[0m\u001b[1;33m.\u001b[0m\u001b[0mhand\u001b[0m \u001b[1;33m+=\u001b[0m \u001b[0mdk\u001b[0m\u001b[1;33m.\u001b[0m\u001b[0mdraw\u001b[0m\u001b[1;33m(\u001b[0m\u001b[1;33m)\u001b[0m\u001b[1;33m\u001b[0m\u001b[1;33m\u001b[0m\u001b[0m\n",
      "\u001b[0m\u001b[1;32m     66 \u001b[1;33m            \u001b[0mself\u001b[0m\u001b[1;33m.\u001b[0m\u001b[0mprint_hand\u001b[0m\u001b[1;33m(\u001b[0m\u001b[1;33m)\u001b[0m\u001b[1;33m\u001b[0m\u001b[1;33m\u001b[0m\u001b[0m\n",
      "\u001b[0m\u001b[1;32m     67 \u001b[1;33m            \u001b[0mself\u001b[0m\u001b[1;33m.\u001b[0m\u001b[0mevaluate_hand\u001b[0m\u001b[1;33m(\u001b[0m\u001b[1;33m)\u001b[0m\u001b[1;33m\u001b[0m\u001b[1;33m\u001b[0m\u001b[0m\n",
      "\u001b[0m\n"
     ]
    },
    {
     "name": "stdin",
     "output_type": "stream",
     "text": [
      "ipdb>  self.hand\n"
     ]
    },
    {
     "name": "stdout",
     "output_type": "stream",
     "text": [
      "['6', '5']\n"
     ]
    },
    {
     "name": "stdin",
     "output_type": "stream",
     "text": [
      "ipdb>  dk.draw()\n"
     ]
    },
    {
     "name": "stdout",
     "output_type": "stream",
     "text": [
      "['10']\n"
     ]
    },
    {
     "name": "stdin",
     "output_type": "stream",
     "text": [
      "ipdb>  dk.draw()\n"
     ]
    },
    {
     "name": "stdout",
     "output_type": "stream",
     "text": [
      "['K']\n"
     ]
    },
    {
     "name": "stdin",
     "output_type": "stream",
     "text": [
      "ipdb>  self.hand\n"
     ]
    },
    {
     "name": "stdout",
     "output_type": "stream",
     "text": [
      "['6', '5']\n"
     ]
    },
    {
     "name": "stdin",
     "output_type": "stream",
     "text": [
      "ipdb>  self.hand + = dk.draw()\n"
     ]
    },
    {
     "name": "stdout",
     "output_type": "stream",
     "text": [
      "*** SyntaxError: invalid syntax\n"
     ]
    },
    {
     "name": "stdin",
     "output_type": "stream",
     "text": [
      "ipdb>  self.hand+=dk.draw()\n",
      "ipdb>  self.hand\n"
     ]
    },
    {
     "name": "stdout",
     "output_type": "stream",
     "text": [
      "['6', '5', 'K']\n"
     ]
    },
    {
     "name": "stdin",
     "output_type": "stream",
     "text": [
      "ipdb>  \n"
     ]
    },
    {
     "name": "stdout",
     "output_type": "stream",
     "text": [
      "['6', '5', 'K']\n"
     ]
    },
    {
     "name": "stdin",
     "output_type": "stream",
     "text": [
      "ipdb>  \n"
     ]
    },
    {
     "name": "stdout",
     "output_type": "stream",
     "text": [
      "['6', '5', 'K']\n"
     ]
    },
    {
     "name": "stdin",
     "output_type": "stream",
     "text": [
      "ipdb>  exit\n"
     ]
    }
   ],
   "source": [
    "%debug"
   ]
  },
  {
   "cell_type": "code",
   "execution_count": null,
   "metadata": {},
   "outputs": [],
   "source": []
  }
 ],
 "metadata": {
  "kernelspec": {
   "display_name": "Python 3",
   "language": "python",
   "name": "python3"
  },
  "language_info": {
   "codemirror_mode": {
    "name": "ipython",
    "version": 3
   },
   "file_extension": ".py",
   "mimetype": "text/x-python",
   "name": "python",
   "nbconvert_exporter": "python",
   "pygments_lexer": "ipython3",
   "version": "3.7.3"
  }
 },
 "nbformat": 4,
 "nbformat_minor": 4
}
