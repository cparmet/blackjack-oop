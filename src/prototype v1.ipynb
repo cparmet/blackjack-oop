{
 "cells": [
  {
   "cell_type": "markdown",
   "metadata": {},
   "source": [
    "Use _ to indicate these variables are private to the class.  \n",
    "To remind myself not to change them directly in code outside the class.  \n",
    "Instead, use the class's methods, which check for consequences (validation etc) of a variable change.  "
   ]
  },
  {
   "cell_type": "code",
   "execution_count": 3,
   "metadata": {},
   "outputs": [],
   "source": [
    "from random import randint\n",
    "\n",
    "# Card face: value\n",
    "cards_dict = {'2':2,\n",
    "          '3':3,\n",
    "          '4':4,\n",
    "          '5':5,\n",
    "          '6':6,\n",
    "          '7':7,\n",
    "          '8':8,\n",
    "          '9':9,\n",
    "          '10':10,\n",
    "          'J':10,\n",
    "          'Q':10,\n",
    "          'K':10,\n",
    "          'A':11} # We'll handle soft Aces in code.\n",
    "\n",
    "class Deck:\n",
    "    \n",
    "    def __init__(self):    \n",
    "        self._new_deck()\n",
    "    \n",
    "    def _new_deck(self):\n",
    "        self._cards = list(cards_dict)*4\n",
    "                \n",
    "    def draw(self):\n",
    "        ''' Takes 1 card out of the deck. Depletes deck.'''\n",
    "        n_cards =len(self._cards)\n",
    "        if n_cards >0:\n",
    "            new_card = self._cards[randint(0,n_cards-1)] # Shuffles when drawing a card. Not perfect. Fix later.\n",
    "            self._cards.remove(new_card)\n",
    "            return([new_card])\n",
    "        else: # We're out of cards! Create a new deck.\n",
    "            self._new_deck()\n",
    "            self.draw()\n",
    "            \n",
    "class Player:\n",
    "    \n",
    "    # initialize the attributes\n",
    "    def __init__(self, name):\n",
    "        self.name = name \n",
    "        self.hand = []\n",
    "        self.status = 'open' # 'open', 'win', 'stand' (includes push), lose' (bust, dealer natural blackjack)\t\n",
    "    \n",
    "    def print_hand(self):\n",
    "        hand_formatted = ' '.join(self.hand)\n",
    "        print('{}: {}'.format(self.name, hand_formatted))\n",
    "        \n",
    "    def deal(self, dk):\n",
    "        ''' Draw two cards.'''\n",
    "        self.hand += dk.draw() + dk.draw()\n",
    "        \n",
    "    def evaluate_hand(self):\n",
    "        ''' Do we have blackjack or bust?'''\n",
    "\n",
    "        hard_score = 0 # Aces = 11\n",
    "        \n",
    "        for card in self.hand:\n",
    "            hard_score += cards_dict[card]\n",
    "        \n",
    "        soft_score = hard_score # Aces = 1\n",
    "        if hard_score>21:\n",
    "            n_aces = len([card for card in self.hand if card == 'A'])\n",
    "            if n_aces>0:\n",
    "                for ace in range(1, n_aces+1):\n",
    "                    soft_score -= 10 #  -11 + 1\n",
    "                    if soft_score == 21:\n",
    "                        self.status = 'win'\n",
    "        elif hard_score ==21:\n",
    "            self.status = 'win'\n",
    "\n",
    "        if soft_score>21: # Also catches when hard_score >21 and converting Aces to 1 doesn't save player.\n",
    "            self.status = 'lose'\n",
    "    \n",
    "        print(min([soft_score,hard_score]))\n",
    "\n",
    "class Human(Player):\n",
    "    species = 'human'\n",
    "\n",
    "    def move(self, dk):\n",
    "        decision = ''\n",
    "        while (decision != 'h') and (decision != 's'):\n",
    "            decision = input(\"Hit (h) or Stand (s)?\")\n",
    "        if decision == 'h':\n",
    "            self.hand += dk.draw()\n",
    "            self.print_hand()\n",
    "            self.evaluate_hand()\n",
    "        if decision == 's':\n",
    "            self.status = 'stand'\n",
    "\n",
    "class Dealer(Player):\n",
    "    species = 'dealer'\n",
    "    \n",
    "    def move(self, dk):\n",
    "        self.status = 'lose' # PLACEHOLDER. CONTINUE HERE\n",
    "        #         ''' Rules to make next move'''"
   ]
  },
  {
   "cell_type": "code",
   "execution_count": 4,
   "metadata": {},
   "outputs": [
    {
     "name": "stdout",
     "output_type": "stream",
     "text": [
      "Chad: 8 K\n",
      "18\n",
      "Watson: 4 9\n",
      "13\n"
     ]
    },
    {
     "name": "stdin",
     "output_type": "stream",
     "text": [
      "Hit (h) or Stand (s)? h\n"
     ]
    },
    {
     "name": "stdout",
     "output_type": "stream",
     "text": [
      "Chad: 8 K 8\n",
      "26\n",
      "Chad lose\n",
      "Watson lose\n"
     ]
    },
    {
     "name": "stdin",
     "output_type": "stream",
     "text": [
      "Play some cards? (y) n\n"
     ]
    }
   ],
   "source": [
    "deck = Deck()\n",
    "\n",
    "def play_game():\n",
    "    players = [Human('Chad'),\n",
    "               Dealer('Watson')]\n",
    "    \n",
    "    assert(players[-1].species == 'dealer') # Ensure last player is dealer, so we can index with -1\n",
    "    \n",
    "    for p in players:\n",
    "        p.deal(deck)\n",
    "        p.print_hand()\n",
    "        p.evaluate_hand()\n",
    "\n",
    "    # Does dealer have a natural blackjack?\n",
    "    if players[-1].status == 'win':\n",
    "        for p in players[0:-1]: # For all non-dealer players \n",
    "            # Does player also have a natural blackjack?\n",
    "            if p.status == 'win':\n",
    "                p.status = 'push'\n",
    "            else:\n",
    "                p.status = 'lose'\n",
    "            print(p.name, p.status)\n",
    "\n",
    "    else:\n",
    "        # Play out hands of all players\n",
    "        for p in players: \n",
    "            while p.status == 'open':\n",
    "                p.move(deck)\n",
    "            print(p.name, p.status)\n",
    "\n",
    "game_on = True\n",
    "while game_on:\n",
    "    play_game()\n",
    "    game_on = input('Play again? (y)') == 'y'"
   ]
  },
  {
   "cell_type": "code",
   "execution_count": 159,
   "metadata": {},
   "outputs": [
    {
     "name": "stdout",
     "output_type": "stream",
     "text": [
      "[]\n",
      "['K', 'A']\n",
      "blackjack\n"
     ]
    }
   ],
   "source": [
    "    \n",
    "# Dealer have a natural blackjack?\n",
    "if players[-1].status == 'blackjack':\n",
    "    for i in range(0,len(players)): # For all non-dealer players:\n",
    "        if player[i].status != 'blackjack'\n",
    "\n",
    "    \n",
    "print(players[0].hand)\n",
    "players[0].deal(deck)\n",
    "# players[0].deal(deck)\n",
    "print(players[0].hand)\n",
    "# print(len(deck._cards))\n",
    "players[0].evaluate_hand(deck)\n",
    "print(players[0].status)"
   ]
  },
  {
   "cell_type": "code",
   "execution_count": 35,
   "metadata": {},
   "outputs": [
    {
     "ename": "SyntaxError",
     "evalue": "unexpected EOF while parsing (<ipython-input-35-b316d1bc7821>, line 32)",
     "output_type": "error",
     "traceback": [
      "\u001b[1;36m  File \u001b[1;32m\"<ipython-input-35-b316d1bc7821>\"\u001b[1;36m, line \u001b[1;32m32\u001b[0m\n\u001b[1;33m    \u001b[0m\n\u001b[1;37m    ^\u001b[0m\n\u001b[1;31mSyntaxError\u001b[0m\u001b[1;31m:\u001b[0m unexpected EOF while parsing\n"
     ]
    }
   ],
   "source": []
  },
  {
   "cell_type": "code",
   "execution_count": 12,
   "metadata": {},
   "outputs": [],
   "source": []
  },
  {
   "cell_type": "code",
   "execution_count": 15,
   "metadata": {},
   "outputs": [
    {
     "data": {
      "text/plain": [
       "'cpu'"
      ]
     },
     "execution_count": 15,
     "metadata": {},
     "output_type": "execute_result"
    }
   ],
   "source": [
    "cpu._species"
   ]
  },
  {
   "cell_type": "code",
   "execution_count": null,
   "metadata": {},
   "outputs": [],
   "source": []
  }
 ],
 "metadata": {
  "kernelspec": {
   "display_name": "Python 3",
   "language": "python",
   "name": "python3"
  },
  "language_info": {
   "codemirror_mode": {
    "name": "ipython",
    "version": 3
   },
   "file_extension": ".py",
   "mimetype": "text/x-python",
   "name": "python",
   "nbconvert_exporter": "python",
   "pygments_lexer": "ipython3",
   "version": "3.7.3"
  }
 },
 "nbformat": 4,
 "nbformat_minor": 4
}
